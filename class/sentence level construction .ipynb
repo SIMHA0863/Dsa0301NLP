{
  "nbformat": 4,
  "nbformat_minor": 0,
  "metadata": {
    "colab": {
      "provenance": [],
      "authorship_tag": "ABX9TyOb+NZgc5m+a6PWogIuQ2qj",
      "include_colab_link": true
    },
    "kernelspec": {
      "name": "python3",
      "display_name": "Python 3"
    },
    "language_info": {
      "name": "python"
    }
  },
  "cells": [
    {
      "cell_type": "markdown",
      "metadata": {
        "id": "view-in-github",
        "colab_type": "text"
      },
      "source": [
        "<a href=\"https://colab.research.google.com/github/SIMHA0863/Dsa0301NLP/blob/main/class/sentence%20level%20construction%20.ipynb\" target=\"_parent\"><img src=\"https://colab.research.google.com/assets/colab-badge.svg\" alt=\"Open In Colab\"/></a>"
      ]
    },
    {
      "cell_type": "code",
      "execution_count": 6,
      "metadata": {
        "colab": {
          "base_uri": "https://localhost:8080/"
        },
        "id": "akqxBWHjFSDA",
        "outputId": "691d8468-ce2b-40f0-eb4b-379fdbbf6f76"
      },
      "outputs": [
        {
          "output_type": "stream",
          "name": "stdout",
          "text": [
            "Tokens: ['She', 'sings', ',', 'and', 'he', 'dances', 'while', 'the', 'music', 'plays', '.']\n",
            "Noun Phrases: ['She', 'he', 'the music']\n",
            "Sentence Type: Declarative\n",
            "Is Compound Sentence: True\n",
            "Verbs: ['sings', 'dances', 'plays']\n",
            "Subjects: ['She', 'he', 'music']\n"
          ]
        }
      ],
      "source": [
        "import spacy\n",
        "\n",
        "# Load the spaCy language model\n",
        "nlp = spacy.load(\"en_core_web_sm\")\n",
        "\n",
        "# Example sentence\n",
        "sentence = \"She sings, and he dances while the music plays.\"\n",
        "\n",
        "# Parse the sentence using spaCy\n",
        "doc = nlp(sentence)\n",
        "\n",
        "# Tokenize the sentence\n",
        "tokens = [token.text for token in doc]\n",
        "print(\"Tokens:\", tokens)\n",
        "\n",
        "# Extract noun phrases\n",
        "noun_phrases = [np.text for np in doc.noun_chunks]\n",
        "print(\"Noun Phrases:\", noun_phrases)\n",
        "\n",
        "# Identify the sentence type (declarative, interrogative, imperative, exclamatory)\n",
        "if doc[-1].is_punct:\n",
        "    if doc[-1].text == \"?\":\n",
        "        sentence_type = \"Interrogative\"\n",
        "    elif doc[-1].text == \"!\":\n",
        "        sentence_type = \"Exclamatory\"\n",
        "    else:\n",
        "        sentence_type = \"Declarative\"\n",
        "else:\n",
        "    sentence_type = \"Imperative\"\n",
        "print(\"Sentence Type:\", sentence_type)\n",
        "\n",
        "# Check if it's a compound sentence\n",
        "is_compound = any(token.text == \",\" for token in doc)\n",
        "print(\"Is Compound Sentence:\", is_compound)\n",
        "\n",
        "# Identify verbs and subjects\n",
        "verbs = [token.text for token in doc if token.pos_ == \"VERB\"]\n",
        "subjects = [token.text for token in doc if token.dep_ == \"nsubj\"]\n",
        "print(\"Verbs:\", verbs)\n",
        "print(\"Subjects:\", subjects)"
      ]
    }
  ]
}