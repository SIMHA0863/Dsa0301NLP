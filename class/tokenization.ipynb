{
  "nbformat": 4,
  "nbformat_minor": 0,
  "metadata": {
    "colab": {
      "provenance": [],
      "authorship_tag": "ABX9TyNCgPItipSyVjEtHyTqOJYZ",
      "include_colab_link": true
    },
    "kernelspec": {
      "name": "python3",
      "display_name": "Python 3"
    },
    "language_info": {
      "name": "python"
    }
  },
  "cells": [
    {
      "cell_type": "markdown",
      "metadata": {
        "id": "view-in-github",
        "colab_type": "text"
      },
      "source": [
        "<a href=\"https://colab.research.google.com/github/SIMHA0863/Dsa0301NLP/blob/main/class/tokenization.ipynb\" target=\"_parent\"><img src=\"https://colab.research.google.com/assets/colab-badge.svg\" alt=\"Open In Colab\"/></a>"
      ]
    },
    {
      "cell_type": "code",
      "source": [
        "import nltk\n",
        "nltk.download('punkt')\n",
        "from nltk.tokenize import sent_tokenize, word_tokenize\n",
        "\n",
        "text = \"Natural language processing (NLP) is a field \" + \\\n",
        "       \"of computer science, artificial intelligence \" + \\\n",
        "       \"and computational linguistics concerned with \" + \\\n",
        "       \"the interactions between computers and human \" + \\\n",
        "       \"(natural) languages, and, in particular, \" + \\\n",
        "       \"concerned with programming computers to \" + \\\n",
        "       \"fruitfully process large natural language \" + \\\n",
        "       \"corpora. Challenges in natural language \" + \\\n",
        "       \"processing frequently involve natural \" + \\\n",
        "       \"language understanding, natural language\" + \\\n",
        "       \"generation frequently from formal, machine\" + \\\n",
        "       \"-readable logical forms), connecting language \" + \\\n",
        "       \"and machine perception, managing human-\" + \\\n",
        "       \"computer dialog systems, or some combination \" + \\\n",
        "       \"thereof.\"\n",
        "\n",
        "print(sent_tokenize(text))\n",
        "print(word_tokenize(text))"
      ],
      "metadata": {
        "colab": {
          "base_uri": "https://localhost:8080/"
        },
        "id": "22zP7ZwLKHCk",
        "outputId": "49e09590-dd91-406d-f6b0-375d03c53288"
      },
      "execution_count": 16,
      "outputs": [
        {
          "output_type": "stream",
          "name": "stdout",
          "text": [
            "['Natural language processing (NLP) is a field of computer science, artificial intelligence and computational linguistics concerned with the interactions between computers and human (natural) languages, and, in particular, concerned with programming computers to fruitfully process large natural language corpora.', 'Challenges in natural language processing frequently involve natural language understanding, natural languagegeneration frequently from formal, machine-readable logical forms), connecting language and machine perception, managing human-computer dialog systems, or some combination thereof.']\n",
            "['Natural', 'language', 'processing', '(', 'NLP', ')', 'is', 'a', 'field', 'of', 'computer', 'science', ',', 'artificial', 'intelligence', 'and', 'computational', 'linguistics', 'concerned', 'with', 'the', 'interactions', 'between', 'computers', 'and', 'human', '(', 'natural', ')', 'languages', ',', 'and', ',', 'in', 'particular', ',', 'concerned', 'with', 'programming', 'computers', 'to', 'fruitfully', 'process', 'large', 'natural', 'language', 'corpora', '.', 'Challenges', 'in', 'natural', 'language', 'processing', 'frequently', 'involve', 'natural', 'language', 'understanding', ',', 'natural', 'languagegeneration', 'frequently', 'from', 'formal', ',', 'machine-readable', 'logical', 'forms', ')', ',', 'connecting', 'language', 'and', 'machine', 'perception', ',', 'managing', 'human-computer', 'dialog', 'systems', ',', 'or', 'some', 'combination', 'thereof', '.']\n"
          ]
        },
        {
          "output_type": "stream",
          "name": "stderr",
          "text": [
            "[nltk_data] Downloading package punkt to /root/nltk_data...\n",
            "[nltk_data]   Package punkt is already up-to-date!\n"
          ]
        }
      ]
    },
    {
      "cell_type": "code",
      "source": [],
      "metadata": {
        "colab": {
          "base_uri": "https://localhost:8080/"
        },
        "id": "b62zT72yKFRy",
        "outputId": "29334e64-be25-49eb-f009-61c813590462"
      },
      "execution_count": 14,
      "outputs": [
        {
          "output_type": "stream",
          "name": "stdout",
          "text": [
            "Token : The\n",
            "Lemma : the\n",
            "pos : 90\n",
            "\n",
            "Token : cat\n",
            "Lemma : cat\n",
            "pos : 92\n",
            "\n",
            "Token : on\n",
            "Lemma : on\n",
            "pos : 85\n",
            "\n",
            "Token : the\n",
            "Lemma : the\n",
            "pos : 90\n",
            "\n",
            "Token : rook\n",
            "Lemma : rook\n",
            "pos : 92\n",
            "\n",
            "Token : purring\n",
            "Lemma : purr\n",
            "pos : 100\n",
            "\n",
            "Token : softly\n",
            "Lemma : softly\n",
            "pos : 86\n",
            "\n",
            "Token : which\n",
            "Lemma : which\n",
            "pos : 95\n",
            "\n",
            "Token : belongs\n",
            "Lemma : belong\n",
            "pos : 100\n",
            "\n",
            "Token : to\n",
            "Lemma : to\n",
            "pos : 85\n",
            "\n",
            "Token : my\n",
            "Lemma : my\n",
            "pos : 95\n",
            "\n",
            "Token : neighbour\n",
            "Lemma : neighbour\n",
            "pos : 92\n",
            "\n",
            "Token : caught\n",
            "Lemma : catch\n",
            "pos : 100\n",
            "\n",
            "Token : a\n",
            "Lemma : a\n",
            "pos : 90\n",
            "\n",
            "Token : mouse\n",
            "Lemma : mouse\n",
            "pos : 92\n",
            "\n",
            "Preposition Phrases : []\n",
            "Gerundive Phrases : []\n",
            "Infinite Clauses : []\n",
            "Relative Clauses : []\n"
          ]
        }
      ]
    }
  ]
}