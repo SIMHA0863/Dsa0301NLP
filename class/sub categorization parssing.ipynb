{
  "nbformat": 4,
  "nbformat_minor": 0,
  "metadata": {
    "colab": {
      "provenance": [],
      "authorship_tag": "ABX9TyMojofsAE4vB2ZM130F2FYo",
      "include_colab_link": true
    },
    "kernelspec": {
      "name": "python3",
      "display_name": "Python 3"
    },
    "language_info": {
      "name": "python"
    }
  },
  "cells": [
    {
      "cell_type": "markdown",
      "metadata": {
        "id": "view-in-github",
        "colab_type": "text"
      },
      "source": [
        "<a href=\"https://colab.research.google.com/github/SIMHA0863/Dsa0301NLP/blob/main/class/sub%20categorization%20parssing.ipynb\" target=\"_parent\"><img src=\"https://colab.research.google.com/assets/colab-badge.svg\" alt=\"Open In Colab\"/></a>"
      ]
    },
    {
      "cell_type": "code",
      "source": [
        "import spacy\n",
        "\n",
        "nlp = spacy.load(\"en_core_web_sm\")\n",
        "\n",
        "\n",
        "sent = \"The cat on the rook purring softly which belongs to my neighbour caught a mouse\"\n",
        "doc = nlp(sent)\n",
        "for token in doc:\n",
        "  print(f\"Token : {token.text}\\nLemma : {token.lemma_}\\npos : {token.pos}\\n\")\n",
        "  prepos_phrases = [chunk.text for chunk in doc.noun_chunks if \"on\" in [token.text for token in chunk]]\n",
        "print(f\"Preposition Phrases : {prepos_phrases}\")\n",
        "ger_phrases = [chunk.text for chunk in doc.noun_chunks if \"ing\" in [token.text[-3:] for token in chunk]]\n",
        "print(f\"Gerundive Phrases : {ger_phrases}\")\n",
        "inf_clause = [token.text for token in doc if token.dep_ == \"xcomp\"]\n",
        "print(f\"Infinite Clauses : {inf_clause}\")\n",
        "rel_clause = [token.text for token in doc if token.dep_ == \"relcel\"]\n",
        "print(f\"Relative Clauses : {rel_clause}\")"
      ],
      "metadata": {
        "colab": {
          "base_uri": "https://localhost:8080/"
        },
        "id": "22zP7ZwLKHCk",
        "outputId": "5ba8595c-8b08-44ca-9922-1b91a3ab43d5"
      },
      "execution_count": 15,
      "outputs": [
        {
          "output_type": "stream",
          "name": "stdout",
          "text": [
            "Token : The\n",
            "Lemma : the\n",
            "pos : 90\n",
            "\n",
            "Token : cat\n",
            "Lemma : cat\n",
            "pos : 92\n",
            "\n",
            "Token : on\n",
            "Lemma : on\n",
            "pos : 85\n",
            "\n",
            "Token : the\n",
            "Lemma : the\n",
            "pos : 90\n",
            "\n",
            "Token : rook\n",
            "Lemma : rook\n",
            "pos : 92\n",
            "\n",
            "Token : purring\n",
            "Lemma : purr\n",
            "pos : 100\n",
            "\n",
            "Token : softly\n",
            "Lemma : softly\n",
            "pos : 86\n",
            "\n",
            "Token : which\n",
            "Lemma : which\n",
            "pos : 95\n",
            "\n",
            "Token : belongs\n",
            "Lemma : belong\n",
            "pos : 100\n",
            "\n",
            "Token : to\n",
            "Lemma : to\n",
            "pos : 85\n",
            "\n",
            "Token : my\n",
            "Lemma : my\n",
            "pos : 95\n",
            "\n",
            "Token : neighbour\n",
            "Lemma : neighbour\n",
            "pos : 92\n",
            "\n",
            "Token : caught\n",
            "Lemma : catch\n",
            "pos : 100\n",
            "\n",
            "Token : a\n",
            "Lemma : a\n",
            "pos : 90\n",
            "\n",
            "Token : mouse\n",
            "Lemma : mouse\n",
            "pos : 92\n",
            "\n",
            "Preposition Phrases : []\n",
            "Gerundive Phrases : []\n",
            "Infinite Clauses : []\n",
            "Relative Clauses : []\n"
          ]
        }
      ]
    },
    {
      "cell_type": "code",
      "source": [],
      "metadata": {
        "colab": {
          "base_uri": "https://localhost:8080/"
        },
        "id": "b62zT72yKFRy",
        "outputId": "29334e64-be25-49eb-f009-61c813590462"
      },
      "execution_count": 14,
      "outputs": [
        {
          "output_type": "stream",
          "name": "stdout",
          "text": [
            "Token : The\n",
            "Lemma : the\n",
            "pos : 90\n",
            "\n",
            "Token : cat\n",
            "Lemma : cat\n",
            "pos : 92\n",
            "\n",
            "Token : on\n",
            "Lemma : on\n",
            "pos : 85\n",
            "\n",
            "Token : the\n",
            "Lemma : the\n",
            "pos : 90\n",
            "\n",
            "Token : rook\n",
            "Lemma : rook\n",
            "pos : 92\n",
            "\n",
            "Token : purring\n",
            "Lemma : purr\n",
            "pos : 100\n",
            "\n",
            "Token : softly\n",
            "Lemma : softly\n",
            "pos : 86\n",
            "\n",
            "Token : which\n",
            "Lemma : which\n",
            "pos : 95\n",
            "\n",
            "Token : belongs\n",
            "Lemma : belong\n",
            "pos : 100\n",
            "\n",
            "Token : to\n",
            "Lemma : to\n",
            "pos : 85\n",
            "\n",
            "Token : my\n",
            "Lemma : my\n",
            "pos : 95\n",
            "\n",
            "Token : neighbour\n",
            "Lemma : neighbour\n",
            "pos : 92\n",
            "\n",
            "Token : caught\n",
            "Lemma : catch\n",
            "pos : 100\n",
            "\n",
            "Token : a\n",
            "Lemma : a\n",
            "pos : 90\n",
            "\n",
            "Token : mouse\n",
            "Lemma : mouse\n",
            "pos : 92\n",
            "\n",
            "Preposition Phrases : []\n",
            "Gerundive Phrases : []\n",
            "Infinite Clauses : []\n",
            "Relative Clauses : []\n"
          ]
        }
      ]
    }
  ]
}